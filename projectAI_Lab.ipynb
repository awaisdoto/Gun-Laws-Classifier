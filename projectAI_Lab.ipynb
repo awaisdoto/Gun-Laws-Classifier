{
 "cells": [
  {
   "cell_type": "code",
   "execution_count": 178,
   "metadata": {},
   "outputs": [],
   "source": [
    "# This is to import Numpy library\n",
    "import numpy as np\n",
    "# This is to import the pandas library\n",
    "import pandas as pd"
   ]
  },
  {
   "cell_type": "code",
   "execution_count": 179,
   "metadata": {},
   "outputs": [],
   "source": [
    "# Import writer class from csv module\r\n",
    "from csv import writer\r\n",
    "  \r\n",
    "# List \r\n",
    "id_user = 1174\r\n",
    "year = input(\"Enter Year in Number:\")\r\n",
    "violent = input(\"Enter Violent rate:\")\r\n",
    "murder = input(\"Enter murder rate:\")\r\n",
    "robbery = input(\"Enter number of robberies:\")\r\n",
    "prisoners = input(\"Enter number of prisoners:\")\r\n",
    "afam = input(\"Enter number of afam:\")\r\n",
    "cauc = input(\"Enter number of cauc:\")\r\n",
    "male_rate = input(\"Enter number of male_rate:\")\r\n",
    "population = input(\"Enter number of population:\")\r\n",
    "income = input(\"Enter number of income:\")\r\n",
    "density = input(\"Enter number of density:\")\r\n",
    "State = input(\"Enter name of State:\")\r\n",
    "law = 'yes'\r\n",
    "myList = [id_user,year,violent,murder,robbery,prisoners,afam,cauc,male_rate,population,income,density,State,law]\r\n",
    "\r\n",
    "\r\n",
    "with open('Guns.csv', 'a') as f_object:\r\n",
    "  \r\n",
    "    # Pass this file object to csv.writer()\r\n",
    "    # and get a writer object\r\n",
    "    writer_object = writer(f_object)\r\n",
    "  \r\n",
    "    # Pass the list as an argument into\r\n",
    "    # the writerow()\r\n",
    "    writer_object.writerow(myList)\r\n",
    "  \r\n",
    "    #Close the file object\r\n",
    "    f_object.close()"
   ]
  },
  {
   "cell_type": "code",
   "execution_count": 180,
   "metadata": {},
   "outputs": [],
   "source": [
    "# This is to load the dataset that we will be performing data cleaning and classification on.\r\n",
    "df = pd.read_csv(\"Guns.csv\",na_values=np.nan)"
   ]
  },
  {
   "cell_type": "code",
   "execution_count": 181,
   "metadata": {},
   "outputs": [
    {
     "data": {
      "text/html": "<div>\n<style scoped>\n    .dataframe tbody tr th:only-of-type {\n        vertical-align: middle;\n    }\n\n    .dataframe tbody tr th {\n        vertical-align: top;\n    }\n\n    .dataframe thead th {\n        text-align: right;\n    }\n</style>\n<table border=\"1\" class=\"dataframe\">\n  <thead>\n    <tr style=\"text-align: right;\">\n      <th></th>\n      <th>id</th>\n      <th>year</th>\n      <th>violent</th>\n      <th>murder</th>\n      <th>robbery</th>\n      <th>prisoners</th>\n      <th>afam</th>\n      <th>cauc</th>\n      <th>male</th>\n      <th>population</th>\n      <th>income</th>\n      <th>density</th>\n      <th>state</th>\n      <th>law</th>\n    </tr>\n  </thead>\n  <tbody>\n    <tr>\n      <th>0</th>\n      <td>1</td>\n      <td>1977</td>\n      <td>414.4</td>\n      <td>14.2</td>\n      <td>96.8</td>\n      <td>83.0</td>\n      <td>8.384873</td>\n      <td>55.12291</td>\n      <td>18.17441</td>\n      <td>3.780403</td>\n      <td>9563.148</td>\n      <td>0.074552</td>\n      <td>Alabama</td>\n      <td>no</td>\n    </tr>\n    <tr>\n      <th>1</th>\n      <td>2</td>\n      <td>1978</td>\n      <td>419.1</td>\n      <td>13.3</td>\n      <td>99.1</td>\n      <td>94.0</td>\n      <td>8.352101</td>\n      <td>55.14367</td>\n      <td>17.99408</td>\n      <td>3.831838</td>\n      <td>9932.000</td>\n      <td>0.075567</td>\n      <td>Alabama</td>\n      <td>no</td>\n    </tr>\n    <tr>\n      <th>2</th>\n      <td>3</td>\n      <td>1979</td>\n      <td>413.3</td>\n      <td>13.2</td>\n      <td>109.5</td>\n      <td>144.0</td>\n      <td>8.329575</td>\n      <td>55.13586</td>\n      <td>17.83934</td>\n      <td>3.866248</td>\n      <td>9877.028</td>\n      <td>0.076245</td>\n      <td>Alabama</td>\n      <td>no</td>\n    </tr>\n    <tr>\n      <th>3</th>\n      <td>4</td>\n      <td>1980</td>\n      <td>448.5</td>\n      <td>13.2</td>\n      <td>132.1</td>\n      <td>141.0</td>\n      <td>8.408386</td>\n      <td>54.91259</td>\n      <td>17.73420</td>\n      <td>3.900368</td>\n      <td>9541.428</td>\n      <td>0.076829</td>\n      <td>Alabama</td>\n      <td>no</td>\n    </tr>\n    <tr>\n      <th>4</th>\n      <td>5</td>\n      <td>1981</td>\n      <td>470.5</td>\n      <td>11.9</td>\n      <td>126.5</td>\n      <td>149.0</td>\n      <td>8.483435</td>\n      <td>54.92513</td>\n      <td>17.67372</td>\n      <td>3.918531</td>\n      <td>9548.351</td>\n      <td>0.077187</td>\n      <td>Alabama</td>\n      <td>no</td>\n    </tr>\n    <tr>\n      <th>...</th>\n      <td>...</td>\n      <td>...</td>\n      <td>...</td>\n      <td>...</td>\n      <td>...</td>\n      <td>...</td>\n      <td>...</td>\n      <td>...</td>\n      <td>...</td>\n      <td>...</td>\n      <td>...</td>\n      <td>...</td>\n      <td>...</td>\n      <td>...</td>\n    </tr>\n    <tr>\n      <th>1169</th>\n      <td>1170</td>\n      <td>1996</td>\n      <td>249.7</td>\n      <td>3.3</td>\n      <td>20.4</td>\n      <td>289.0</td>\n      <td>1.521814</td>\n      <td>73.85796</td>\n      <td>15.44601</td>\n      <td>0.480085</td>\n      <td>14032.230</td>\n      <td>0.004944</td>\n      <td>wyoming</td>\n      <td>yes</td>\n    </tr>\n    <tr>\n      <th>1170</th>\n      <td>1171</td>\n      <td>1997</td>\n      <td>255.2</td>\n      <td>3.5</td>\n      <td>17.7</td>\n      <td>310.0</td>\n      <td>1.527818</td>\n      <td>73.92731</td>\n      <td>15.49400</td>\n      <td>0.480031</td>\n      <td>14790.980</td>\n      <td>0.004943</td>\n      <td>Wyoming</td>\n      <td>yes</td>\n    </tr>\n    <tr>\n      <th>1171</th>\n      <td>1172</td>\n      <td>1998</td>\n      <td>247.6</td>\n      <td>4.8</td>\n      <td>16.2</td>\n      <td>326.0</td>\n      <td>1.558396</td>\n      <td>73.98515</td>\n      <td>15.51021</td>\n      <td>0.480045</td>\n      <td>15225.510</td>\n      <td>0.004944</td>\n      <td>wyoming</td>\n      <td>yes</td>\n    </tr>\n    <tr>\n      <th>1172</th>\n      <td>1173</td>\n      <td>1999</td>\n      <td>232.3</td>\n      <td>2.3</td>\n      <td>15.4</td>\n      <td>327.0</td>\n      <td>1.613004</td>\n      <td>74.04952</td>\n      <td>15.48013</td>\n      <td>0.479602</td>\n      <td>15765.070</td>\n      <td>0.004939</td>\n      <td>wyoming</td>\n      <td>yes</td>\n    </tr>\n    <tr>\n      <th>1173</th>\n      <td>1174</td>\n      <td>1999</td>\n      <td>112.2</td>\n      <td>2.2</td>\n      <td>19.4</td>\n      <td>125.0</td>\n      <td>0.729426</td>\n      <td>75.10503</td>\n      <td>13.45536</td>\n      <td>1.253040</td>\n      <td>14700.040</td>\n      <td>0.040597</td>\n      <td>Maine</td>\n      <td>yes</td>\n    </tr>\n  </tbody>\n</table>\n<p>1174 rows × 14 columns</p>\n</div>",
      "text/plain": "        id  year  violent  murder  robbery  prisoners      afam      cauc  \\\n0        1  1977    414.4    14.2     96.8       83.0  8.384873  55.12291   \n1        2  1978    419.1    13.3     99.1       94.0  8.352101  55.14367   \n2        3  1979    413.3    13.2    109.5      144.0  8.329575  55.13586   \n3        4  1980    448.5    13.2    132.1      141.0  8.408386  54.91259   \n4        5  1981    470.5    11.9    126.5      149.0  8.483435  54.92513   \n...    ...   ...      ...     ...      ...        ...       ...       ...   \n1169  1170  1996    249.7     3.3     20.4      289.0  1.521814  73.85796   \n1170  1171  1997    255.2     3.5     17.7      310.0  1.527818  73.92731   \n1171  1172  1998    247.6     4.8     16.2      326.0  1.558396  73.98515   \n1172  1173  1999    232.3     2.3     15.4      327.0  1.613004  74.04952   \n1173  1174  1999    112.2     2.2     19.4      125.0  0.729426  75.10503   \n\n          male  population     income   density    state  law  \n0     18.17441    3.780403   9563.148  0.074552  Alabama   no  \n1     17.99408    3.831838   9932.000  0.075567  Alabama   no  \n2     17.83934    3.866248   9877.028  0.076245  Alabama   no  \n3     17.73420    3.900368   9541.428  0.076829  Alabama   no  \n4     17.67372    3.918531   9548.351  0.077187  Alabama   no  \n...        ...         ...        ...       ...      ...  ...  \n1169  15.44601    0.480085  14032.230  0.004944  wyoming  yes  \n1170  15.49400    0.480031  14790.980  0.004943  Wyoming  yes  \n1171  15.51021    0.480045  15225.510  0.004944  wyoming  yes  \n1172  15.48013    0.479602  15765.070  0.004939  wyoming  yes  \n1173  13.45536    1.253040  14700.040  0.040597    Maine  yes  \n\n[1174 rows x 14 columns]"
     },
     "execution_count": 181,
     "metadata": {},
     "output_type": "execute_result"
    }
   ],
   "source": [
    "df"
   ]
  },
  {
   "cell_type": "code",
   "execution_count": 182,
   "metadata": {},
   "outputs": [
    {
     "name": "stdout",
     "output_type": "stream",
     "text": [
      "(1174, 14)\n",
      "id              int64\n",
      "year            int64\n",
      "violent       float64\n",
      "murder        float64\n",
      "robbery       float64\n",
      "prisoners     float64\n",
      "afam          float64\n",
      "cauc          float64\n",
      "male          float64\n",
      "population    float64\n",
      "income        float64\n",
      "density       float64\n",
      "state          object\n",
      "law            object\n",
      "dtype: object\n"
     ]
    }
   ],
   "source": [
    "# this is to check the shape of the data and the data types that each attribute has.\n",
    "print(df.shape)\n",
    "print(df.dtypes)"
   ]
  },
  {
   "cell_type": "code",
   "execution_count": 183,
   "metadata": {},
   "outputs": [
    {
     "name": "stdout",
     "output_type": "stream",
     "text": [
      "['id' 'year' 'violent' 'murder' 'robbery' 'prisoners' 'afam' 'cauc' 'male'\n",
      " 'population' 'income' 'density']\n"
     ]
    }
   ],
   "source": [
    "# Basically This code below is used to confirm which of the columns are numbers\n",
    "df_number = df.select_dtypes(include=[np.number])\n",
    "number_columns = df_number.columns.values\n",
    "print(number_columns)"
   ]
  },
  {
   "cell_type": "code",
   "execution_count": 184,
   "metadata": {},
   "outputs": [
    {
     "name": "stdout",
     "output_type": "stream",
     "text": [
      "['state' 'law']\n"
     ]
    }
   ],
   "source": [
    "# This code below is to confirm which of the code below is not number data like text/string\n",
    "df_not_number = df.select_dtypes(exclude=[np.number])\n",
    "not_number_columns = df_not_number.columns.values\n",
    "print(not_number_columns)"
   ]
  },
  {
   "cell_type": "code",
   "execution_count": 185,
   "metadata": {},
   "outputs": [
    {
     "name": "stdout",
     "output_type": "stream",
     "text": [
      "id - 0 Percentage\n",
      "year - 0 Percentage\n",
      "violent - 0 Percentage\n",
      "murder - 2 Percentage\n",
      "robbery - 0 Percentage\n",
      "prisoners - 1 Percentage\n",
      "afam - 0 Percentage\n",
      "cauc - 0 Percentage\n",
      "male - 1 Percentage\n",
      "population - 2 Percentage\n",
      "income - 10 Percentage\n",
      "density - 0 Percentage\n",
      "state - 0 Percentage\n",
      "law - 0 Percentage\n"
     ]
    }
   ],
   "source": [
    "# This is to find missing values in attributes, like null values.\n",
    "for col in df.columns:\n",
    "    missing_values_percentage = np.mean(df[col].isnull())\n",
    "    print('{} - {} Percentage'.format(col,round(missing_values_percentage*100)))"
   ]
  },
  {
   "cell_type": "code",
   "execution_count": 186,
   "metadata": {},
   "outputs": [
    {
     "data": {
      "text/plain": "id              0\nyear            0\nviolent         0\nmurder         21\nrobbery         0\nprisoners      14\nafam            0\ncauc            0\nmale            7\npopulation     26\nincome        115\ndensity         0\nstate           0\nlaw             0\ndtype: int64"
     },
     "execution_count": 186,
     "metadata": {},
     "output_type": "execute_result"
    }
   ],
   "source": [
    "df.isnull().sum()"
   ]
  },
  {
   "cell_type": "code",
   "execution_count": 187,
   "metadata": {},
   "outputs": [
    {
     "data": {
      "text/html": "<div>\n<style scoped>\n    .dataframe tbody tr th:only-of-type {\n        vertical-align: middle;\n    }\n\n    .dataframe tbody tr th {\n        vertical-align: top;\n    }\n\n    .dataframe thead th {\n        text-align: right;\n    }\n</style>\n<table border=\"1\" class=\"dataframe\">\n  <thead>\n    <tr style=\"text-align: right;\">\n      <th></th>\n      <th>id</th>\n      <th>year</th>\n      <th>violent</th>\n      <th>murder</th>\n      <th>robbery</th>\n      <th>prisoners</th>\n      <th>afam</th>\n      <th>cauc</th>\n      <th>male</th>\n      <th>population</th>\n      <th>income</th>\n      <th>density</th>\n      <th>state</th>\n      <th>law</th>\n    </tr>\n  </thead>\n  <tbody>\n    <tr>\n      <th>0</th>\n      <td>1</td>\n      <td>1977</td>\n      <td>414.4</td>\n      <td>14.2</td>\n      <td>96.8</td>\n      <td>83.0</td>\n      <td>8.384873</td>\n      <td>55.12291</td>\n      <td>18.17441</td>\n      <td>3.780403</td>\n      <td>9563.148</td>\n      <td>0.074552</td>\n      <td>Alabama</td>\n      <td>no</td>\n    </tr>\n    <tr>\n      <th>1</th>\n      <td>2</td>\n      <td>1978</td>\n      <td>419.1</td>\n      <td>13.3</td>\n      <td>99.1</td>\n      <td>94.0</td>\n      <td>8.352101</td>\n      <td>55.14367</td>\n      <td>17.99408</td>\n      <td>3.831838</td>\n      <td>9932.000</td>\n      <td>0.075567</td>\n      <td>Alabama</td>\n      <td>no</td>\n    </tr>\n    <tr>\n      <th>2</th>\n      <td>3</td>\n      <td>1979</td>\n      <td>413.3</td>\n      <td>13.2</td>\n      <td>109.5</td>\n      <td>144.0</td>\n      <td>8.329575</td>\n      <td>55.13586</td>\n      <td>17.83934</td>\n      <td>3.866248</td>\n      <td>9877.028</td>\n      <td>0.076245</td>\n      <td>Alabama</td>\n      <td>no</td>\n    </tr>\n    <tr>\n      <th>3</th>\n      <td>4</td>\n      <td>1980</td>\n      <td>448.5</td>\n      <td>13.2</td>\n      <td>132.1</td>\n      <td>141.0</td>\n      <td>8.408386</td>\n      <td>54.91259</td>\n      <td>17.73420</td>\n      <td>3.900368</td>\n      <td>9541.428</td>\n      <td>0.076829</td>\n      <td>Alabama</td>\n      <td>no</td>\n    </tr>\n    <tr>\n      <th>4</th>\n      <td>5</td>\n      <td>1981</td>\n      <td>470.5</td>\n      <td>11.9</td>\n      <td>126.5</td>\n      <td>149.0</td>\n      <td>8.483435</td>\n      <td>54.92513</td>\n      <td>17.67372</td>\n      <td>3.918531</td>\n      <td>9548.351</td>\n      <td>0.077187</td>\n      <td>Alabama</td>\n      <td>no</td>\n    </tr>\n    <tr>\n      <th>...</th>\n      <td>...</td>\n      <td>...</td>\n      <td>...</td>\n      <td>...</td>\n      <td>...</td>\n      <td>...</td>\n      <td>...</td>\n      <td>...</td>\n      <td>...</td>\n      <td>...</td>\n      <td>...</td>\n      <td>...</td>\n      <td>...</td>\n      <td>...</td>\n    </tr>\n    <tr>\n      <th>1169</th>\n      <td>1170</td>\n      <td>1996</td>\n      <td>249.7</td>\n      <td>3.3</td>\n      <td>20.4</td>\n      <td>289.0</td>\n      <td>1.521814</td>\n      <td>73.85796</td>\n      <td>15.44601</td>\n      <td>0.480085</td>\n      <td>14032.230</td>\n      <td>0.004944</td>\n      <td>wyoming</td>\n      <td>yes</td>\n    </tr>\n    <tr>\n      <th>1170</th>\n      <td>1171</td>\n      <td>1997</td>\n      <td>255.2</td>\n      <td>3.5</td>\n      <td>17.7</td>\n      <td>310.0</td>\n      <td>1.527818</td>\n      <td>73.92731</td>\n      <td>15.49400</td>\n      <td>0.480031</td>\n      <td>14790.980</td>\n      <td>0.004943</td>\n      <td>Wyoming</td>\n      <td>yes</td>\n    </tr>\n    <tr>\n      <th>1171</th>\n      <td>1172</td>\n      <td>1998</td>\n      <td>247.6</td>\n      <td>4.8</td>\n      <td>16.2</td>\n      <td>326.0</td>\n      <td>1.558396</td>\n      <td>73.98515</td>\n      <td>15.51021</td>\n      <td>0.480045</td>\n      <td>15225.510</td>\n      <td>0.004944</td>\n      <td>wyoming</td>\n      <td>yes</td>\n    </tr>\n    <tr>\n      <th>1172</th>\n      <td>1173</td>\n      <td>1999</td>\n      <td>232.3</td>\n      <td>2.3</td>\n      <td>15.4</td>\n      <td>327.0</td>\n      <td>1.613004</td>\n      <td>74.04952</td>\n      <td>15.48013</td>\n      <td>0.479602</td>\n      <td>15765.070</td>\n      <td>0.004939</td>\n      <td>wyoming</td>\n      <td>yes</td>\n    </tr>\n    <tr>\n      <th>1173</th>\n      <td>1174</td>\n      <td>1999</td>\n      <td>112.2</td>\n      <td>2.2</td>\n      <td>19.4</td>\n      <td>125.0</td>\n      <td>0.729426</td>\n      <td>75.10503</td>\n      <td>13.45536</td>\n      <td>1.253040</td>\n      <td>14700.040</td>\n      <td>0.040597</td>\n      <td>Maine</td>\n      <td>yes</td>\n    </tr>\n  </tbody>\n</table>\n<p>1174 rows × 14 columns</p>\n</div>",
      "text/plain": "        id  year  violent  murder  robbery  prisoners      afam      cauc  \\\n0        1  1977    414.4    14.2     96.8       83.0  8.384873  55.12291   \n1        2  1978    419.1    13.3     99.1       94.0  8.352101  55.14367   \n2        3  1979    413.3    13.2    109.5      144.0  8.329575  55.13586   \n3        4  1980    448.5    13.2    132.1      141.0  8.408386  54.91259   \n4        5  1981    470.5    11.9    126.5      149.0  8.483435  54.92513   \n...    ...   ...      ...     ...      ...        ...       ...       ...   \n1169  1170  1996    249.7     3.3     20.4      289.0  1.521814  73.85796   \n1170  1171  1997    255.2     3.5     17.7      310.0  1.527818  73.92731   \n1171  1172  1998    247.6     4.8     16.2      326.0  1.558396  73.98515   \n1172  1173  1999    232.3     2.3     15.4      327.0  1.613004  74.04952   \n1173  1174  1999    112.2     2.2     19.4      125.0  0.729426  75.10503   \n\n          male  population     income   density    state  law  \n0     18.17441    3.780403   9563.148  0.074552  Alabama   no  \n1     17.99408    3.831838   9932.000  0.075567  Alabama   no  \n2     17.83934    3.866248   9877.028  0.076245  Alabama   no  \n3     17.73420    3.900368   9541.428  0.076829  Alabama   no  \n4     17.67372    3.918531   9548.351  0.077187  Alabama   no  \n...        ...         ...        ...       ...      ...  ...  \n1169  15.44601    0.480085  14032.230  0.004944  wyoming  yes  \n1170  15.49400    0.480031  14790.980  0.004943  Wyoming  yes  \n1171  15.51021    0.480045  15225.510  0.004944  wyoming  yes  \n1172  15.48013    0.479602  15765.070  0.004939  wyoming  yes  \n1173  13.45536    1.253040  14700.040  0.040597    Maine  yes  \n\n[1174 rows x 14 columns]"
     },
     "execution_count": 187,
     "metadata": {},
     "output_type": "execute_result"
    }
   ],
   "source": [
    "# To fix the problem of missing values, there are 3 ways according to the web: 1) Drop the row, 2) Drop the Column 3) Impute the missing\r\n",
    "# We chose to impute the missing values with the mean \r\n",
    "\r\n",
    "# df_numeric = df.select_dtypes(include=[np.number])\r\n",
    "# numeric_cols = df_numeric.columns.values\r\n",
    "\r\n",
    "#for col in numeric_cols:\r\n",
    " #   total_nullValues = df[col].isnull()\r\n",
    " #   num_missing = np.sum(total_nullValues)\r\n",
    "\r\n",
    "  #  if num_missing > 0:  # for columns that have missing values\r\n",
    "  #      mean = df[col].mean()\r\n",
    " #       df[col] = df[col].fillna(mean)\r\n",
    "\r\n",
    "#######################################################################\r\n",
    "# If we want to put the mean in all the values we can do using f fill also another way\r\n",
    "df = df.interpolate()\r\n",
    "df = df.fillna(method='ffill')\r\n",
    "df "
   ]
  },
  {
   "cell_type": "code",
   "execution_count": 188,
   "metadata": {},
   "outputs": [
    {
     "name": "stdout",
     "output_type": "stream",
     "text": [
      "id - 0 Percentage\n",
      "year - 0 Percentage\n",
      "violent - 0 Percentage\n",
      "murder - 0 Percentage\n",
      "robbery - 0 Percentage\n",
      "prisoners - 0 Percentage\n",
      "afam - 0 Percentage\n",
      "cauc - 0 Percentage\n",
      "male - 0 Percentage\n",
      "population - 0 Percentage\n",
      "income - 0 Percentage\n",
      "density - 0 Percentage\n",
      "state - 0 Percentage\n",
      "law - 0 Percentage\n"
     ]
    }
   ],
   "source": [
    "for col in df.columns:\n",
    "    missing_values_percentage = np.mean(df[col].isnull())\n",
    "    print('{} - {} Percentage'.format(col,round(missing_values_percentage*100)))"
   ]
  },
  {
   "cell_type": "code",
   "execution_count": 190,
   "metadata": {},
   "outputs": [
    {
     "name": "stdout",
     "output_type": "stream",
     "text": [
      "<class 'pandas.core.frame.DataFrame'>\n",
      "RangeIndex: 1174 entries, 0 to 1173\n",
      "Data columns (total 14 columns):\n",
      " #   Column      Non-Null Count  Dtype  \n",
      "---  ------      --------------  -----  \n",
      " 0   id          1174 non-null   int64  \n",
      " 1   year        1174 non-null   int64  \n",
      " 2   violent     1174 non-null   float64\n",
      " 3   murder      1174 non-null   float64\n",
      " 4   robbery     1174 non-null   float64\n",
      " 5   prisoners   1174 non-null   float64\n",
      " 6   afam        1174 non-null   float64\n",
      " 7   cauc        1174 non-null   float64\n",
      " 8   male        1174 non-null   float64\n",
      " 9   population  1174 non-null   float64\n",
      " 10  income      1174 non-null   float64\n",
      " 11  density     1174 non-null   float64\n",
      " 12  state       1174 non-null   object \n",
      " 13  law         1174 non-null   object \n",
      "dtypes: float64(10), int64(2), object(2)\n",
      "memory usage: 128.5+ KB\n"
     ]
    }
   ],
   "source": [
    "df.info()"
   ]
  },
  {
   "cell_type": "code",
   "execution_count": 191,
   "metadata": {},
   "outputs": [
    {
     "data": {
      "text/html": "<div>\n<style scoped>\n    .dataframe tbody tr th:only-of-type {\n        vertical-align: middle;\n    }\n\n    .dataframe tbody tr th {\n        vertical-align: top;\n    }\n\n    .dataframe thead th {\n        text-align: right;\n    }\n</style>\n<table border=\"1\" class=\"dataframe\">\n  <thead>\n    <tr style=\"text-align: right;\">\n      <th></th>\n      <th>id</th>\n      <th>year</th>\n      <th>violent</th>\n      <th>murder</th>\n      <th>robbery</th>\n      <th>prisoners</th>\n      <th>afam</th>\n      <th>cauc</th>\n      <th>male</th>\n      <th>population</th>\n      <th>income</th>\n      <th>density</th>\n      <th>state</th>\n      <th>law</th>\n    </tr>\n  </thead>\n  <tbody>\n    <tr>\n      <th>0</th>\n      <td>False</td>\n      <td>False</td>\n      <td>False</td>\n      <td>False</td>\n      <td>False</td>\n      <td>False</td>\n      <td>False</td>\n      <td>False</td>\n      <td>False</td>\n      <td>False</td>\n      <td>False</td>\n      <td>False</td>\n      <td>False</td>\n      <td>False</td>\n    </tr>\n    <tr>\n      <th>1</th>\n      <td>False</td>\n      <td>False</td>\n      <td>False</td>\n      <td>False</td>\n      <td>False</td>\n      <td>False</td>\n      <td>False</td>\n      <td>False</td>\n      <td>False</td>\n      <td>False</td>\n      <td>False</td>\n      <td>False</td>\n      <td>False</td>\n      <td>False</td>\n    </tr>\n    <tr>\n      <th>2</th>\n      <td>False</td>\n      <td>False</td>\n      <td>False</td>\n      <td>False</td>\n      <td>False</td>\n      <td>False</td>\n      <td>False</td>\n      <td>False</td>\n      <td>False</td>\n      <td>False</td>\n      <td>False</td>\n      <td>False</td>\n      <td>False</td>\n      <td>False</td>\n    </tr>\n    <tr>\n      <th>3</th>\n      <td>False</td>\n      <td>False</td>\n      <td>False</td>\n      <td>False</td>\n      <td>False</td>\n      <td>False</td>\n      <td>False</td>\n      <td>False</td>\n      <td>False</td>\n      <td>False</td>\n      <td>False</td>\n      <td>False</td>\n      <td>False</td>\n      <td>False</td>\n    </tr>\n    <tr>\n      <th>4</th>\n      <td>False</td>\n      <td>False</td>\n      <td>False</td>\n      <td>False</td>\n      <td>False</td>\n      <td>False</td>\n      <td>False</td>\n      <td>False</td>\n      <td>False</td>\n      <td>False</td>\n      <td>False</td>\n      <td>False</td>\n      <td>False</td>\n      <td>False</td>\n    </tr>\n    <tr>\n      <th>...</th>\n      <td>...</td>\n      <td>...</td>\n      <td>...</td>\n      <td>...</td>\n      <td>...</td>\n      <td>...</td>\n      <td>...</td>\n      <td>...</td>\n      <td>...</td>\n      <td>...</td>\n      <td>...</td>\n      <td>...</td>\n      <td>...</td>\n      <td>...</td>\n    </tr>\n    <tr>\n      <th>1169</th>\n      <td>False</td>\n      <td>False</td>\n      <td>False</td>\n      <td>False</td>\n      <td>False</td>\n      <td>False</td>\n      <td>False</td>\n      <td>False</td>\n      <td>False</td>\n      <td>False</td>\n      <td>False</td>\n      <td>False</td>\n      <td>False</td>\n      <td>False</td>\n    </tr>\n    <tr>\n      <th>1170</th>\n      <td>False</td>\n      <td>False</td>\n      <td>False</td>\n      <td>False</td>\n      <td>False</td>\n      <td>False</td>\n      <td>False</td>\n      <td>False</td>\n      <td>False</td>\n      <td>False</td>\n      <td>False</td>\n      <td>False</td>\n      <td>False</td>\n      <td>False</td>\n    </tr>\n    <tr>\n      <th>1171</th>\n      <td>False</td>\n      <td>False</td>\n      <td>False</td>\n      <td>False</td>\n      <td>False</td>\n      <td>False</td>\n      <td>False</td>\n      <td>False</td>\n      <td>False</td>\n      <td>False</td>\n      <td>False</td>\n      <td>False</td>\n      <td>False</td>\n      <td>False</td>\n    </tr>\n    <tr>\n      <th>1172</th>\n      <td>False</td>\n      <td>False</td>\n      <td>False</td>\n      <td>False</td>\n      <td>False</td>\n      <td>False</td>\n      <td>False</td>\n      <td>False</td>\n      <td>False</td>\n      <td>False</td>\n      <td>False</td>\n      <td>False</td>\n      <td>False</td>\n      <td>False</td>\n    </tr>\n    <tr>\n      <th>1173</th>\n      <td>False</td>\n      <td>False</td>\n      <td>False</td>\n      <td>False</td>\n      <td>False</td>\n      <td>False</td>\n      <td>False</td>\n      <td>False</td>\n      <td>False</td>\n      <td>False</td>\n      <td>False</td>\n      <td>False</td>\n      <td>False</td>\n      <td>False</td>\n    </tr>\n  </tbody>\n</table>\n<p>1174 rows × 14 columns</p>\n</div>",
      "text/plain": "         id   year  violent  murder  robbery  prisoners   afam   cauc   male  \\\n0     False  False    False   False    False      False  False  False  False   \n1     False  False    False   False    False      False  False  False  False   \n2     False  False    False   False    False      False  False  False  False   \n3     False  False    False   False    False      False  False  False  False   \n4     False  False    False   False    False      False  False  False  False   \n...     ...    ...      ...     ...      ...        ...    ...    ...    ...   \n1169  False  False    False   False    False      False  False  False  False   \n1170  False  False    False   False    False      False  False  False  False   \n1171  False  False    False   False    False      False  False  False  False   \n1172  False  False    False   False    False      False  False  False  False   \n1173  False  False    False   False    False      False  False  False  False   \n\n      population  income  density  state    law  \n0          False   False    False  False  False  \n1          False   False    False  False  False  \n2          False   False    False  False  False  \n3          False   False    False  False  False  \n4          False   False    False  False  False  \n...          ...     ...      ...    ...    ...  \n1169       False   False    False  False  False  \n1170       False   False    False  False  False  \n1171       False   False    False  False  False  \n1172       False   False    False  False  False  \n1173       False   False    False  False  False  \n\n[1174 rows x 14 columns]"
     },
     "execution_count": 191,
     "metadata": {},
     "output_type": "execute_result"
    }
   ],
   "source": [
    "df.isna()"
   ]
  },
  {
   "cell_type": "code",
   "execution_count": 192,
   "metadata": {},
   "outputs": [
    {
     "data": {
      "text/plain": "Nevada                  23\nDistrict of Columbia    23\nIowa                    23\nWashington              23\nFlorida                 23\n                        ..\nnebraSka                 1\nalabama                  1\nwest virginia            1\nAlaBama                  1\ndelawaRe                 1\nName: state, Length: 104, dtype: int64"
     },
     "execution_count": 192,
     "metadata": {},
     "output_type": "execute_result"
    }
   ],
   "source": [
    "# Capitalization \n",
    "df['state'].value_counts(dropna=False)"
   ]
  },
  {
   "cell_type": "code",
   "execution_count": 193,
   "metadata": {},
   "outputs": [
    {
     "data": {
      "text/plain": "maine                   24\nnebraska                23\nutah                    23\nidaho                   23\ngeorgia                 23\nwest virginia           23\ntexas                   23\nnew mexico              23\niowa                    23\nnew jersey              23\nnorth dakota            23\npennsylvania            23\nwyoming                 23\nkansas                  23\noklahoma                23\nrhode island            23\nindiana                 23\ncolorado                23\nsouth dakota            23\ncalifornia              23\ndistrict of columbia    23\narkansas                23\noregon                  23\nwisconsin               23\nkentucky                23\nsouth carolina          23\nnew hampshire           23\nvirginia                23\nvermont                 23\nhawaii                  23\nminnesota               23\ndelaware                23\nmichigan                23\nohio                    23\nnorth carolina          23\nillinois                23\nmassachusetts           23\ntennessee               23\nwashington              23\nlouisiana               23\nalabama                 23\nmaryland                23\nmississippi             23\nflorida                 23\nmontana                 23\nmissouri                23\nnevada                  23\narizona                 23\nnew york                23\nconnecticut             23\nalaska                  23\nName: state, dtype: int64"
     },
     "execution_count": 193,
     "metadata": {},
     "output_type": "execute_result"
    }
   ],
   "source": [
    "# To Fix the capitalization of the state attribute we use this.\n",
    "# This function is basically putting the state.lower() column to be equal to the state column in our data set\n",
    "df['state'] = df['state'].str.lower()  \n",
    "df['state'].value_counts(dropna=False)"
   ]
  },
  {
   "cell_type": "code",
   "execution_count": 194,
   "metadata": {},
   "outputs": [
    {
     "data": {
      "text/html": "<div>\n<style scoped>\n    .dataframe tbody tr th:only-of-type {\n        vertical-align: middle;\n    }\n\n    .dataframe tbody tr th {\n        vertical-align: top;\n    }\n\n    .dataframe thead th {\n        text-align: right;\n    }\n</style>\n<table border=\"1\" class=\"dataframe\">\n  <thead>\n    <tr style=\"text-align: right;\">\n      <th></th>\n      <th>id</th>\n      <th>year</th>\n      <th>violent</th>\n      <th>murder</th>\n      <th>robbery</th>\n      <th>prisoners</th>\n      <th>afam</th>\n      <th>cauc</th>\n      <th>male</th>\n      <th>population</th>\n      <th>income</th>\n      <th>density</th>\n      <th>state</th>\n      <th>law</th>\n    </tr>\n  </thead>\n  <tbody>\n    <tr>\n      <th>0</th>\n      <td>1</td>\n      <td>1977</td>\n      <td>414.4</td>\n      <td>14.2</td>\n      <td>96.8</td>\n      <td>83.0</td>\n      <td>8.384873</td>\n      <td>55.12291</td>\n      <td>18.17441</td>\n      <td>3.780403</td>\n      <td>9563.148</td>\n      <td>0.074552</td>\n      <td>alabama</td>\n      <td>0</td>\n    </tr>\n    <tr>\n      <th>1</th>\n      <td>2</td>\n      <td>1978</td>\n      <td>419.1</td>\n      <td>13.3</td>\n      <td>99.1</td>\n      <td>94.0</td>\n      <td>8.352101</td>\n      <td>55.14367</td>\n      <td>17.99408</td>\n      <td>3.831838</td>\n      <td>9932.000</td>\n      <td>0.075567</td>\n      <td>alabama</td>\n      <td>0</td>\n    </tr>\n    <tr>\n      <th>2</th>\n      <td>3</td>\n      <td>1979</td>\n      <td>413.3</td>\n      <td>13.2</td>\n      <td>109.5</td>\n      <td>144.0</td>\n      <td>8.329575</td>\n      <td>55.13586</td>\n      <td>17.83934</td>\n      <td>3.866248</td>\n      <td>9877.028</td>\n      <td>0.076245</td>\n      <td>alabama</td>\n      <td>0</td>\n    </tr>\n    <tr>\n      <th>3</th>\n      <td>4</td>\n      <td>1980</td>\n      <td>448.5</td>\n      <td>13.2</td>\n      <td>132.1</td>\n      <td>141.0</td>\n      <td>8.408386</td>\n      <td>54.91259</td>\n      <td>17.73420</td>\n      <td>3.900368</td>\n      <td>9541.428</td>\n      <td>0.076829</td>\n      <td>alabama</td>\n      <td>0</td>\n    </tr>\n    <tr>\n      <th>4</th>\n      <td>5</td>\n      <td>1981</td>\n      <td>470.5</td>\n      <td>11.9</td>\n      <td>126.5</td>\n      <td>149.0</td>\n      <td>8.483435</td>\n      <td>54.92513</td>\n      <td>17.67372</td>\n      <td>3.918531</td>\n      <td>9548.351</td>\n      <td>0.077187</td>\n      <td>alabama</td>\n      <td>0</td>\n    </tr>\n  </tbody>\n</table>\n</div>",
      "text/plain": "   id  year  violent  murder  robbery  prisoners      afam      cauc  \\\n0   1  1977    414.4    14.2     96.8       83.0  8.384873  55.12291   \n1   2  1978    419.1    13.3     99.1       94.0  8.352101  55.14367   \n2   3  1979    413.3    13.2    109.5      144.0  8.329575  55.13586   \n3   4  1980    448.5    13.2    132.1      141.0  8.408386  54.91259   \n4   5  1981    470.5    11.9    126.5      149.0  8.483435  54.92513   \n\n       male  population    income   density    state  law  \n0  18.17441    3.780403  9563.148  0.074552  alabama    0  \n1  17.99408    3.831838  9932.000  0.075567  alabama    0  \n2  17.83934    3.866248  9877.028  0.076245  alabama    0  \n3  17.73420    3.900368  9541.428  0.076829  alabama    0  \n4  17.67372    3.918531  9548.351  0.077187  alabama    0  "
     },
     "execution_count": 194,
     "metadata": {},
     "output_type": "execute_result"
    }
   ],
   "source": [
    "# Cleaning Categorial Values we use these steps\n",
    "df[\"law\"] = df[\"law\"].astype('category')\n",
    "# this function basically converts the categorical values into 0,1 \n",
    "df[\"law\"] = df['law'].cat.codes\n",
    "df.head()\n"
   ]
  },
  {
   "cell_type": "code",
   "execution_count": 195,
   "metadata": {},
   "outputs": [
    {
     "data": {
      "text/html": "<div>\n<style scoped>\n    .dataframe tbody tr th:only-of-type {\n        vertical-align: middle;\n    }\n\n    .dataframe tbody tr th {\n        vertical-align: top;\n    }\n\n    .dataframe thead th {\n        text-align: right;\n    }\n</style>\n<table border=\"1\" class=\"dataframe\">\n  <thead>\n    <tr style=\"text-align: right;\">\n      <th></th>\n      <th>id</th>\n      <th>year</th>\n      <th>violent</th>\n      <th>murder</th>\n      <th>robbery</th>\n      <th>prisoners</th>\n      <th>afam</th>\n      <th>cauc</th>\n      <th>male</th>\n      <th>population</th>\n      <th>income</th>\n      <th>density</th>\n      <th>state</th>\n      <th>law</th>\n    </tr>\n  </thead>\n  <tbody>\n    <tr>\n      <th>0</th>\n      <td>1</td>\n      <td>1977</td>\n      <td>414.4</td>\n      <td>14.2</td>\n      <td>96.8</td>\n      <td>83.0</td>\n      <td>8.384873</td>\n      <td>55.12291</td>\n      <td>18.17441</td>\n      <td>3.780403</td>\n      <td>9563.148</td>\n      <td>0.074552</td>\n      <td>alabama</td>\n      <td>0</td>\n    </tr>\n    <tr>\n      <th>1</th>\n      <td>2</td>\n      <td>1978</td>\n      <td>419.1</td>\n      <td>13.3</td>\n      <td>99.1</td>\n      <td>94.0</td>\n      <td>8.352101</td>\n      <td>55.14367</td>\n      <td>17.99408</td>\n      <td>3.831838</td>\n      <td>9932.000</td>\n      <td>0.075567</td>\n      <td>alabama</td>\n      <td>0</td>\n    </tr>\n    <tr>\n      <th>2</th>\n      <td>3</td>\n      <td>1979</td>\n      <td>413.3</td>\n      <td>13.2</td>\n      <td>109.5</td>\n      <td>144.0</td>\n      <td>8.329575</td>\n      <td>55.13586</td>\n      <td>17.83934</td>\n      <td>3.866248</td>\n      <td>9877.028</td>\n      <td>0.076245</td>\n      <td>alabama</td>\n      <td>0</td>\n    </tr>\n    <tr>\n      <th>3</th>\n      <td>4</td>\n      <td>1980</td>\n      <td>448.5</td>\n      <td>13.2</td>\n      <td>132.1</td>\n      <td>141.0</td>\n      <td>8.408386</td>\n      <td>54.91259</td>\n      <td>17.73420</td>\n      <td>3.900368</td>\n      <td>9541.428</td>\n      <td>0.076829</td>\n      <td>alabama</td>\n      <td>0</td>\n    </tr>\n    <tr>\n      <th>4</th>\n      <td>5</td>\n      <td>1981</td>\n      <td>470.5</td>\n      <td>11.9</td>\n      <td>126.5</td>\n      <td>149.0</td>\n      <td>8.483435</td>\n      <td>54.92513</td>\n      <td>17.67372</td>\n      <td>3.918531</td>\n      <td>9548.351</td>\n      <td>0.077187</td>\n      <td>alabama</td>\n      <td>0</td>\n    </tr>\n    <tr>\n      <th>...</th>\n      <td>...</td>\n      <td>...</td>\n      <td>...</td>\n      <td>...</td>\n      <td>...</td>\n      <td>...</td>\n      <td>...</td>\n      <td>...</td>\n      <td>...</td>\n      <td>...</td>\n      <td>...</td>\n      <td>...</td>\n      <td>...</td>\n      <td>...</td>\n    </tr>\n    <tr>\n      <th>1169</th>\n      <td>1170</td>\n      <td>1996</td>\n      <td>249.7</td>\n      <td>3.3</td>\n      <td>20.4</td>\n      <td>289.0</td>\n      <td>1.521814</td>\n      <td>73.85796</td>\n      <td>15.44601</td>\n      <td>0.480085</td>\n      <td>14032.230</td>\n      <td>0.004944</td>\n      <td>wyoming</td>\n      <td>1</td>\n    </tr>\n    <tr>\n      <th>1170</th>\n      <td>1171</td>\n      <td>1997</td>\n      <td>255.2</td>\n      <td>3.5</td>\n      <td>17.7</td>\n      <td>310.0</td>\n      <td>1.527818</td>\n      <td>73.92731</td>\n      <td>15.49400</td>\n      <td>0.480031</td>\n      <td>14790.980</td>\n      <td>0.004943</td>\n      <td>wyoming</td>\n      <td>1</td>\n    </tr>\n    <tr>\n      <th>1171</th>\n      <td>1172</td>\n      <td>1998</td>\n      <td>247.6</td>\n      <td>4.8</td>\n      <td>16.2</td>\n      <td>326.0</td>\n      <td>1.558396</td>\n      <td>73.98515</td>\n      <td>15.51021</td>\n      <td>0.480045</td>\n      <td>15225.510</td>\n      <td>0.004944</td>\n      <td>wyoming</td>\n      <td>1</td>\n    </tr>\n    <tr>\n      <th>1172</th>\n      <td>1173</td>\n      <td>1999</td>\n      <td>232.3</td>\n      <td>2.3</td>\n      <td>15.4</td>\n      <td>327.0</td>\n      <td>1.613004</td>\n      <td>74.04952</td>\n      <td>15.48013</td>\n      <td>0.479602</td>\n      <td>15765.070</td>\n      <td>0.004939</td>\n      <td>wyoming</td>\n      <td>1</td>\n    </tr>\n    <tr>\n      <th>1173</th>\n      <td>1174</td>\n      <td>1999</td>\n      <td>112.2</td>\n      <td>2.2</td>\n      <td>19.4</td>\n      <td>125.0</td>\n      <td>0.729426</td>\n      <td>75.10503</td>\n      <td>13.45536</td>\n      <td>1.253040</td>\n      <td>14700.040</td>\n      <td>0.040597</td>\n      <td>maine</td>\n      <td>1</td>\n    </tr>\n  </tbody>\n</table>\n<p>1174 rows × 14 columns</p>\n</div>",
      "text/plain": "        id  year  violent  murder  robbery  prisoners      afam      cauc  \\\n0        1  1977    414.4    14.2     96.8       83.0  8.384873  55.12291   \n1        2  1978    419.1    13.3     99.1       94.0  8.352101  55.14367   \n2        3  1979    413.3    13.2    109.5      144.0  8.329575  55.13586   \n3        4  1980    448.5    13.2    132.1      141.0  8.408386  54.91259   \n4        5  1981    470.5    11.9    126.5      149.0  8.483435  54.92513   \n...    ...   ...      ...     ...      ...        ...       ...       ...   \n1169  1170  1996    249.7     3.3     20.4      289.0  1.521814  73.85796   \n1170  1171  1997    255.2     3.5     17.7      310.0  1.527818  73.92731   \n1171  1172  1998    247.6     4.8     16.2      326.0  1.558396  73.98515   \n1172  1173  1999    232.3     2.3     15.4      327.0  1.613004  74.04952   \n1173  1174  1999    112.2     2.2     19.4      125.0  0.729426  75.10503   \n\n          male  population     income   density    state  law  \n0     18.17441    3.780403   9563.148  0.074552  alabama    0  \n1     17.99408    3.831838   9932.000  0.075567  alabama    0  \n2     17.83934    3.866248   9877.028  0.076245  alabama    0  \n3     17.73420    3.900368   9541.428  0.076829  alabama    0  \n4     17.67372    3.918531   9548.351  0.077187  alabama    0  \n...        ...         ...        ...       ...      ...  ...  \n1169  15.44601    0.480085  14032.230  0.004944  wyoming    1  \n1170  15.49400    0.480031  14790.980  0.004943  wyoming    1  \n1171  15.51021    0.480045  15225.510  0.004944  wyoming    1  \n1172  15.48013    0.479602  15765.070  0.004939  wyoming    1  \n1173  13.45536    1.253040  14700.040  0.040597    maine    1  \n\n[1174 rows x 14 columns]"
     },
     "execution_count": 195,
     "metadata": {},
     "output_type": "execute_result"
    }
   ],
   "source": [
    "df"
   ]
  },
  {
   "cell_type": "code",
   "execution_count": 196,
   "metadata": {},
   "outputs": [
    {
     "name": "stdout",
     "output_type": "stream",
     "text": [
      "id              int64\n",
      "year            int64\n",
      "violent       float64\n",
      "murder        float64\n",
      "robbery       float64\n",
      "prisoners     float64\n",
      "afam          float64\n",
      "cauc          float64\n",
      "male          float64\n",
      "population    float64\n",
      "income        float64\n",
      "density       float64\n",
      "state          object\n",
      "law              int8\n",
      "dtype: object\n"
     ]
    }
   ],
   "source": [
    "print(df.dtypes)"
   ]
  },
  {
   "cell_type": "code",
   "execution_count": 197,
   "metadata": {},
   "outputs": [],
   "source": [
    "df = pd.get_dummies(df,columns=['state'], prefix=\"State_\")"
   ]
  },
  {
   "cell_type": "code",
   "execution_count": 198,
   "metadata": {},
   "outputs": [
    {
     "data": {
      "text/html": "<div>\n<style scoped>\n    .dataframe tbody tr th:only-of-type {\n        vertical-align: middle;\n    }\n\n    .dataframe tbody tr th {\n        vertical-align: top;\n    }\n\n    .dataframe thead th {\n        text-align: right;\n    }\n</style>\n<table border=\"1\" class=\"dataframe\">\n  <thead>\n    <tr style=\"text-align: right;\">\n      <th></th>\n      <th>id</th>\n      <th>year</th>\n      <th>violent</th>\n      <th>murder</th>\n      <th>robbery</th>\n      <th>prisoners</th>\n      <th>afam</th>\n      <th>cauc</th>\n      <th>male</th>\n      <th>population</th>\n      <th>...</th>\n      <th>State__south dakota</th>\n      <th>State__tennessee</th>\n      <th>State__texas</th>\n      <th>State__utah</th>\n      <th>State__vermont</th>\n      <th>State__virginia</th>\n      <th>State__washington</th>\n      <th>State__west virginia</th>\n      <th>State__wisconsin</th>\n      <th>State__wyoming</th>\n    </tr>\n  </thead>\n  <tbody>\n    <tr>\n      <th>0</th>\n      <td>1</td>\n      <td>1977</td>\n      <td>414.4</td>\n      <td>14.2</td>\n      <td>96.8</td>\n      <td>83.0</td>\n      <td>8.384873</td>\n      <td>55.12291</td>\n      <td>18.17441</td>\n      <td>3.780403</td>\n      <td>...</td>\n      <td>0</td>\n      <td>0</td>\n      <td>0</td>\n      <td>0</td>\n      <td>0</td>\n      <td>0</td>\n      <td>0</td>\n      <td>0</td>\n      <td>0</td>\n      <td>0</td>\n    </tr>\n    <tr>\n      <th>1</th>\n      <td>2</td>\n      <td>1978</td>\n      <td>419.1</td>\n      <td>13.3</td>\n      <td>99.1</td>\n      <td>94.0</td>\n      <td>8.352101</td>\n      <td>55.14367</td>\n      <td>17.99408</td>\n      <td>3.831838</td>\n      <td>...</td>\n      <td>0</td>\n      <td>0</td>\n      <td>0</td>\n      <td>0</td>\n      <td>0</td>\n      <td>0</td>\n      <td>0</td>\n      <td>0</td>\n      <td>0</td>\n      <td>0</td>\n    </tr>\n    <tr>\n      <th>2</th>\n      <td>3</td>\n      <td>1979</td>\n      <td>413.3</td>\n      <td>13.2</td>\n      <td>109.5</td>\n      <td>144.0</td>\n      <td>8.329575</td>\n      <td>55.13586</td>\n      <td>17.83934</td>\n      <td>3.866248</td>\n      <td>...</td>\n      <td>0</td>\n      <td>0</td>\n      <td>0</td>\n      <td>0</td>\n      <td>0</td>\n      <td>0</td>\n      <td>0</td>\n      <td>0</td>\n      <td>0</td>\n      <td>0</td>\n    </tr>\n    <tr>\n      <th>3</th>\n      <td>4</td>\n      <td>1980</td>\n      <td>448.5</td>\n      <td>13.2</td>\n      <td>132.1</td>\n      <td>141.0</td>\n      <td>8.408386</td>\n      <td>54.91259</td>\n      <td>17.73420</td>\n      <td>3.900368</td>\n      <td>...</td>\n      <td>0</td>\n      <td>0</td>\n      <td>0</td>\n      <td>0</td>\n      <td>0</td>\n      <td>0</td>\n      <td>0</td>\n      <td>0</td>\n      <td>0</td>\n      <td>0</td>\n    </tr>\n    <tr>\n      <th>4</th>\n      <td>5</td>\n      <td>1981</td>\n      <td>470.5</td>\n      <td>11.9</td>\n      <td>126.5</td>\n      <td>149.0</td>\n      <td>8.483435</td>\n      <td>54.92513</td>\n      <td>17.67372</td>\n      <td>3.918531</td>\n      <td>...</td>\n      <td>0</td>\n      <td>0</td>\n      <td>0</td>\n      <td>0</td>\n      <td>0</td>\n      <td>0</td>\n      <td>0</td>\n      <td>0</td>\n      <td>0</td>\n      <td>0</td>\n    </tr>\n    <tr>\n      <th>...</th>\n      <td>...</td>\n      <td>...</td>\n      <td>...</td>\n      <td>...</td>\n      <td>...</td>\n      <td>...</td>\n      <td>...</td>\n      <td>...</td>\n      <td>...</td>\n      <td>...</td>\n      <td>...</td>\n      <td>...</td>\n      <td>...</td>\n      <td>...</td>\n      <td>...</td>\n      <td>...</td>\n      <td>...</td>\n      <td>...</td>\n      <td>...</td>\n      <td>...</td>\n      <td>...</td>\n    </tr>\n    <tr>\n      <th>1169</th>\n      <td>1170</td>\n      <td>1996</td>\n      <td>249.7</td>\n      <td>3.3</td>\n      <td>20.4</td>\n      <td>289.0</td>\n      <td>1.521814</td>\n      <td>73.85796</td>\n      <td>15.44601</td>\n      <td>0.480085</td>\n      <td>...</td>\n      <td>0</td>\n      <td>0</td>\n      <td>0</td>\n      <td>0</td>\n      <td>0</td>\n      <td>0</td>\n      <td>0</td>\n      <td>0</td>\n      <td>0</td>\n      <td>1</td>\n    </tr>\n    <tr>\n      <th>1170</th>\n      <td>1171</td>\n      <td>1997</td>\n      <td>255.2</td>\n      <td>3.5</td>\n      <td>17.7</td>\n      <td>310.0</td>\n      <td>1.527818</td>\n      <td>73.92731</td>\n      <td>15.49400</td>\n      <td>0.480031</td>\n      <td>...</td>\n      <td>0</td>\n      <td>0</td>\n      <td>0</td>\n      <td>0</td>\n      <td>0</td>\n      <td>0</td>\n      <td>0</td>\n      <td>0</td>\n      <td>0</td>\n      <td>1</td>\n    </tr>\n    <tr>\n      <th>1171</th>\n      <td>1172</td>\n      <td>1998</td>\n      <td>247.6</td>\n      <td>4.8</td>\n      <td>16.2</td>\n      <td>326.0</td>\n      <td>1.558396</td>\n      <td>73.98515</td>\n      <td>15.51021</td>\n      <td>0.480045</td>\n      <td>...</td>\n      <td>0</td>\n      <td>0</td>\n      <td>0</td>\n      <td>0</td>\n      <td>0</td>\n      <td>0</td>\n      <td>0</td>\n      <td>0</td>\n      <td>0</td>\n      <td>1</td>\n    </tr>\n    <tr>\n      <th>1172</th>\n      <td>1173</td>\n      <td>1999</td>\n      <td>232.3</td>\n      <td>2.3</td>\n      <td>15.4</td>\n      <td>327.0</td>\n      <td>1.613004</td>\n      <td>74.04952</td>\n      <td>15.48013</td>\n      <td>0.479602</td>\n      <td>...</td>\n      <td>0</td>\n      <td>0</td>\n      <td>0</td>\n      <td>0</td>\n      <td>0</td>\n      <td>0</td>\n      <td>0</td>\n      <td>0</td>\n      <td>0</td>\n      <td>1</td>\n    </tr>\n    <tr>\n      <th>1173</th>\n      <td>1174</td>\n      <td>1999</td>\n      <td>112.2</td>\n      <td>2.2</td>\n      <td>19.4</td>\n      <td>125.0</td>\n      <td>0.729426</td>\n      <td>75.10503</td>\n      <td>13.45536</td>\n      <td>1.253040</td>\n      <td>...</td>\n      <td>0</td>\n      <td>0</td>\n      <td>0</td>\n      <td>0</td>\n      <td>0</td>\n      <td>0</td>\n      <td>0</td>\n      <td>0</td>\n      <td>0</td>\n      <td>0</td>\n    </tr>\n  </tbody>\n</table>\n<p>1174 rows × 64 columns</p>\n</div>",
      "text/plain": "        id  year  violent  murder  robbery  prisoners      afam      cauc  \\\n0        1  1977    414.4    14.2     96.8       83.0  8.384873  55.12291   \n1        2  1978    419.1    13.3     99.1       94.0  8.352101  55.14367   \n2        3  1979    413.3    13.2    109.5      144.0  8.329575  55.13586   \n3        4  1980    448.5    13.2    132.1      141.0  8.408386  54.91259   \n4        5  1981    470.5    11.9    126.5      149.0  8.483435  54.92513   \n...    ...   ...      ...     ...      ...        ...       ...       ...   \n1169  1170  1996    249.7     3.3     20.4      289.0  1.521814  73.85796   \n1170  1171  1997    255.2     3.5     17.7      310.0  1.527818  73.92731   \n1171  1172  1998    247.6     4.8     16.2      326.0  1.558396  73.98515   \n1172  1173  1999    232.3     2.3     15.4      327.0  1.613004  74.04952   \n1173  1174  1999    112.2     2.2     19.4      125.0  0.729426  75.10503   \n\n          male  population  ...  State__south dakota  State__tennessee  \\\n0     18.17441    3.780403  ...                    0                 0   \n1     17.99408    3.831838  ...                    0                 0   \n2     17.83934    3.866248  ...                    0                 0   \n3     17.73420    3.900368  ...                    0                 0   \n4     17.67372    3.918531  ...                    0                 0   \n...        ...         ...  ...                  ...               ...   \n1169  15.44601    0.480085  ...                    0                 0   \n1170  15.49400    0.480031  ...                    0                 0   \n1171  15.51021    0.480045  ...                    0                 0   \n1172  15.48013    0.479602  ...                    0                 0   \n1173  13.45536    1.253040  ...                    0                 0   \n\n      State__texas  State__utah  State__vermont  State__virginia  \\\n0                0            0               0                0   \n1                0            0               0                0   \n2                0            0               0                0   \n3                0            0               0                0   \n4                0            0               0                0   \n...            ...          ...             ...              ...   \n1169             0            0               0                0   \n1170             0            0               0                0   \n1171             0            0               0                0   \n1172             0            0               0                0   \n1173             0            0               0                0   \n\n      State__washington  State__west virginia  State__wisconsin  \\\n0                     0                     0                 0   \n1                     0                     0                 0   \n2                     0                     0                 0   \n3                     0                     0                 0   \n4                     0                     0                 0   \n...                 ...                   ...               ...   \n1169                  0                     0                 0   \n1170                  0                     0                 0   \n1171                  0                     0                 0   \n1172                  0                     0                 0   \n1173                  0                     0                 0   \n\n      State__wyoming  \n0                  0  \n1                  0  \n2                  0  \n3                  0  \n4                  0  \n...              ...  \n1169               1  \n1170               1  \n1171               1  \n1172               1  \n1173               0  \n\n[1174 rows x 64 columns]"
     },
     "execution_count": 198,
     "metadata": {},
     "output_type": "execute_result"
    }
   ],
   "source": [
    "df"
   ]
  },
  {
   "cell_type": "code",
   "execution_count": 199,
   "metadata": {},
   "outputs": [],
   "source": [
    "df.to_csv (r'C:\\Users\\User\\Documents\\Awais Saleem Files\\Semester 6 BULC\\Artificial Intelligence Lab\\ML Project\\CleanedDataSet.csv', index = False, header=True)"
   ]
  },
  {
   "cell_type": "code",
   "execution_count": 200,
   "metadata": {},
   "outputs": [],
   "source": [
    "dataset = pd.read_csv('CleanedDataSet.csv')"
   ]
  },
  {
   "cell_type": "code",
   "execution_count": 201,
   "metadata": {},
   "outputs": [
    {
     "data": {
      "text/html": "<div>\n<style scoped>\n    .dataframe tbody tr th:only-of-type {\n        vertical-align: middle;\n    }\n\n    .dataframe tbody tr th {\n        vertical-align: top;\n    }\n\n    .dataframe thead th {\n        text-align: right;\n    }\n</style>\n<table border=\"1\" class=\"dataframe\">\n  <thead>\n    <tr style=\"text-align: right;\">\n      <th></th>\n      <th>id</th>\n      <th>year</th>\n      <th>violent</th>\n      <th>murder</th>\n      <th>robbery</th>\n      <th>prisoners</th>\n      <th>afam</th>\n      <th>cauc</th>\n      <th>male</th>\n      <th>population</th>\n      <th>...</th>\n      <th>State__south dakota</th>\n      <th>State__tennessee</th>\n      <th>State__texas</th>\n      <th>State__utah</th>\n      <th>State__vermont</th>\n      <th>State__virginia</th>\n      <th>State__washington</th>\n      <th>State__west virginia</th>\n      <th>State__wisconsin</th>\n      <th>State__wyoming</th>\n    </tr>\n  </thead>\n  <tbody>\n    <tr>\n      <th>0</th>\n      <td>1</td>\n      <td>1977</td>\n      <td>414.4</td>\n      <td>14.2</td>\n      <td>96.8</td>\n      <td>83.0</td>\n      <td>8.384873</td>\n      <td>55.12291</td>\n      <td>18.17441</td>\n      <td>3.780403</td>\n      <td>...</td>\n      <td>0</td>\n      <td>0</td>\n      <td>0</td>\n      <td>0</td>\n      <td>0</td>\n      <td>0</td>\n      <td>0</td>\n      <td>0</td>\n      <td>0</td>\n      <td>0</td>\n    </tr>\n    <tr>\n      <th>1</th>\n      <td>2</td>\n      <td>1978</td>\n      <td>419.1</td>\n      <td>13.3</td>\n      <td>99.1</td>\n      <td>94.0</td>\n      <td>8.352101</td>\n      <td>55.14367</td>\n      <td>17.99408</td>\n      <td>3.831838</td>\n      <td>...</td>\n      <td>0</td>\n      <td>0</td>\n      <td>0</td>\n      <td>0</td>\n      <td>0</td>\n      <td>0</td>\n      <td>0</td>\n      <td>0</td>\n      <td>0</td>\n      <td>0</td>\n    </tr>\n    <tr>\n      <th>2</th>\n      <td>3</td>\n      <td>1979</td>\n      <td>413.3</td>\n      <td>13.2</td>\n      <td>109.5</td>\n      <td>144.0</td>\n      <td>8.329575</td>\n      <td>55.13586</td>\n      <td>17.83934</td>\n      <td>3.866248</td>\n      <td>...</td>\n      <td>0</td>\n      <td>0</td>\n      <td>0</td>\n      <td>0</td>\n      <td>0</td>\n      <td>0</td>\n      <td>0</td>\n      <td>0</td>\n      <td>0</td>\n      <td>0</td>\n    </tr>\n    <tr>\n      <th>3</th>\n      <td>4</td>\n      <td>1980</td>\n      <td>448.5</td>\n      <td>13.2</td>\n      <td>132.1</td>\n      <td>141.0</td>\n      <td>8.408386</td>\n      <td>54.91259</td>\n      <td>17.73420</td>\n      <td>3.900368</td>\n      <td>...</td>\n      <td>0</td>\n      <td>0</td>\n      <td>0</td>\n      <td>0</td>\n      <td>0</td>\n      <td>0</td>\n      <td>0</td>\n      <td>0</td>\n      <td>0</td>\n      <td>0</td>\n    </tr>\n    <tr>\n      <th>4</th>\n      <td>5</td>\n      <td>1981</td>\n      <td>470.5</td>\n      <td>11.9</td>\n      <td>126.5</td>\n      <td>149.0</td>\n      <td>8.483435</td>\n      <td>54.92513</td>\n      <td>17.67372</td>\n      <td>3.918531</td>\n      <td>...</td>\n      <td>0</td>\n      <td>0</td>\n      <td>0</td>\n      <td>0</td>\n      <td>0</td>\n      <td>0</td>\n      <td>0</td>\n      <td>0</td>\n      <td>0</td>\n      <td>0</td>\n    </tr>\n    <tr>\n      <th>...</th>\n      <td>...</td>\n      <td>...</td>\n      <td>...</td>\n      <td>...</td>\n      <td>...</td>\n      <td>...</td>\n      <td>...</td>\n      <td>...</td>\n      <td>...</td>\n      <td>...</td>\n      <td>...</td>\n      <td>...</td>\n      <td>...</td>\n      <td>...</td>\n      <td>...</td>\n      <td>...</td>\n      <td>...</td>\n      <td>...</td>\n      <td>...</td>\n      <td>...</td>\n      <td>...</td>\n    </tr>\n    <tr>\n      <th>1169</th>\n      <td>1170</td>\n      <td>1996</td>\n      <td>249.7</td>\n      <td>3.3</td>\n      <td>20.4</td>\n      <td>289.0</td>\n      <td>1.521814</td>\n      <td>73.85796</td>\n      <td>15.44601</td>\n      <td>0.480085</td>\n      <td>...</td>\n      <td>0</td>\n      <td>0</td>\n      <td>0</td>\n      <td>0</td>\n      <td>0</td>\n      <td>0</td>\n      <td>0</td>\n      <td>0</td>\n      <td>0</td>\n      <td>1</td>\n    </tr>\n    <tr>\n      <th>1170</th>\n      <td>1171</td>\n      <td>1997</td>\n      <td>255.2</td>\n      <td>3.5</td>\n      <td>17.7</td>\n      <td>310.0</td>\n      <td>1.527818</td>\n      <td>73.92731</td>\n      <td>15.49400</td>\n      <td>0.480031</td>\n      <td>...</td>\n      <td>0</td>\n      <td>0</td>\n      <td>0</td>\n      <td>0</td>\n      <td>0</td>\n      <td>0</td>\n      <td>0</td>\n      <td>0</td>\n      <td>0</td>\n      <td>1</td>\n    </tr>\n    <tr>\n      <th>1171</th>\n      <td>1172</td>\n      <td>1998</td>\n      <td>247.6</td>\n      <td>4.8</td>\n      <td>16.2</td>\n      <td>326.0</td>\n      <td>1.558396</td>\n      <td>73.98515</td>\n      <td>15.51021</td>\n      <td>0.480045</td>\n      <td>...</td>\n      <td>0</td>\n      <td>0</td>\n      <td>0</td>\n      <td>0</td>\n      <td>0</td>\n      <td>0</td>\n      <td>0</td>\n      <td>0</td>\n      <td>0</td>\n      <td>1</td>\n    </tr>\n    <tr>\n      <th>1172</th>\n      <td>1173</td>\n      <td>1999</td>\n      <td>232.3</td>\n      <td>2.3</td>\n      <td>15.4</td>\n      <td>327.0</td>\n      <td>1.613004</td>\n      <td>74.04952</td>\n      <td>15.48013</td>\n      <td>0.479602</td>\n      <td>...</td>\n      <td>0</td>\n      <td>0</td>\n      <td>0</td>\n      <td>0</td>\n      <td>0</td>\n      <td>0</td>\n      <td>0</td>\n      <td>0</td>\n      <td>0</td>\n      <td>1</td>\n    </tr>\n    <tr>\n      <th>1173</th>\n      <td>1174</td>\n      <td>1999</td>\n      <td>112.2</td>\n      <td>2.2</td>\n      <td>19.4</td>\n      <td>125.0</td>\n      <td>0.729426</td>\n      <td>75.10503</td>\n      <td>13.45536</td>\n      <td>1.253040</td>\n      <td>...</td>\n      <td>0</td>\n      <td>0</td>\n      <td>0</td>\n      <td>0</td>\n      <td>0</td>\n      <td>0</td>\n      <td>0</td>\n      <td>0</td>\n      <td>0</td>\n      <td>0</td>\n    </tr>\n  </tbody>\n</table>\n<p>1174 rows × 64 columns</p>\n</div>",
      "text/plain": "        id  year  violent  murder  robbery  prisoners      afam      cauc  \\\n0        1  1977    414.4    14.2     96.8       83.0  8.384873  55.12291   \n1        2  1978    419.1    13.3     99.1       94.0  8.352101  55.14367   \n2        3  1979    413.3    13.2    109.5      144.0  8.329575  55.13586   \n3        4  1980    448.5    13.2    132.1      141.0  8.408386  54.91259   \n4        5  1981    470.5    11.9    126.5      149.0  8.483435  54.92513   \n...    ...   ...      ...     ...      ...        ...       ...       ...   \n1169  1170  1996    249.7     3.3     20.4      289.0  1.521814  73.85796   \n1170  1171  1997    255.2     3.5     17.7      310.0  1.527818  73.92731   \n1171  1172  1998    247.6     4.8     16.2      326.0  1.558396  73.98515   \n1172  1173  1999    232.3     2.3     15.4      327.0  1.613004  74.04952   \n1173  1174  1999    112.2     2.2     19.4      125.0  0.729426  75.10503   \n\n          male  population  ...  State__south dakota  State__tennessee  \\\n0     18.17441    3.780403  ...                    0                 0   \n1     17.99408    3.831838  ...                    0                 0   \n2     17.83934    3.866248  ...                    0                 0   \n3     17.73420    3.900368  ...                    0                 0   \n4     17.67372    3.918531  ...                    0                 0   \n...        ...         ...  ...                  ...               ...   \n1169  15.44601    0.480085  ...                    0                 0   \n1170  15.49400    0.480031  ...                    0                 0   \n1171  15.51021    0.480045  ...                    0                 0   \n1172  15.48013    0.479602  ...                    0                 0   \n1173  13.45536    1.253040  ...                    0                 0   \n\n      State__texas  State__utah  State__vermont  State__virginia  \\\n0                0            0               0                0   \n1                0            0               0                0   \n2                0            0               0                0   \n3                0            0               0                0   \n4                0            0               0                0   \n...            ...          ...             ...              ...   \n1169             0            0               0                0   \n1170             0            0               0                0   \n1171             0            0               0                0   \n1172             0            0               0                0   \n1173             0            0               0                0   \n\n      State__washington  State__west virginia  State__wisconsin  \\\n0                     0                     0                 0   \n1                     0                     0                 0   \n2                     0                     0                 0   \n3                     0                     0                 0   \n4                     0                     0                 0   \n...                 ...                   ...               ...   \n1169                  0                     0                 0   \n1170                  0                     0                 0   \n1171                  0                     0                 0   \n1172                  0                     0                 0   \n1173                  0                     0                 0   \n\n      State__wyoming  \n0                  0  \n1                  0  \n2                  0  \n3                  0  \n4                  0  \n...              ...  \n1169               1  \n1170               1  \n1171               1  \n1172               1  \n1173               0  \n\n[1174 rows x 64 columns]"
     },
     "execution_count": 201,
     "metadata": {},
     "output_type": "execute_result"
    }
   ],
   "source": [
    "dataset"
   ]
  },
  {
   "cell_type": "code",
   "execution_count": 202,
   "metadata": {},
   "outputs": [
    {
     "data": {
      "text/plain": "id                        int64\nyear                      int64\nviolent                 float64\nmurder                  float64\nrobbery                 float64\n                         ...   \nState__virginia           int64\nState__washington         int64\nState__west virginia      int64\nState__wisconsin          int64\nState__wyoming            int64\nLength: 64, dtype: object"
     },
     "execution_count": 202,
     "metadata": {},
     "output_type": "execute_result"
    }
   ],
   "source": [
    "dataset.dtypes"
   ]
  },
  {
   "cell_type": "code",
   "execution_count": 203,
   "metadata": {},
   "outputs": [
    {
     "name": "stdout",
     "output_type": "stream",
     "text": [
      "       0       1      2    3     4      5         6         7         8   \\\n",
      "0  1174.0  1999.0  112.2  2.2  19.4  125.0  0.729426  75.10503  13.45536   \n",
      "\n",
      "        9   ...   54   55   56   57   58   59   60   61   62   63  \n",
      "0  1.25304  ...  0.0  0.0  0.0  0.0  0.0  0.0  0.0  0.0  0.0  0.0  \n",
      "\n",
      "[1 rows x 64 columns]\n"
     ]
    }
   ],
   "source": [
    "prediction_dataset = pd.DataFrame(dataset.iloc[-1:,:].values)\r\n",
    "print(prediction_dataset)"
   ]
  },
  {
   "cell_type": "code",
   "execution_count": 102,
   "metadata": {},
   "outputs": [
    {
     "data": {
      "text/plain": "array([[1.174000e+03, 1.992000e+03, 7.332000e+02, 1.100000e+01,\n        2.498000e+02, 3.420000e+02, 1.013363e+01, 5.466885e+01,\n        1.564598e+01, 6.759474e+00, 1.372643e+04, 1.167056e-01,\n        0.000000e+00, 0.000000e+00, 0.000000e+00, 0.000000e+00,\n        0.000000e+00, 0.000000e+00, 0.000000e+00, 0.000000e+00,\n        0.000000e+00, 1.000000e+00, 0.000000e+00, 0.000000e+00,\n        0.000000e+00, 0.000000e+00, 0.000000e+00, 0.000000e+00,\n        0.000000e+00, 0.000000e+00, 0.000000e+00, 0.000000e+00,\n        0.000000e+00, 0.000000e+00, 0.000000e+00, 0.000000e+00,\n        0.000000e+00, 0.000000e+00, 0.000000e+00, 0.000000e+00,\n        0.000000e+00, 0.000000e+00, 0.000000e+00, 0.000000e+00,\n        0.000000e+00, 0.000000e+00, 0.000000e+00, 0.000000e+00,\n        0.000000e+00, 0.000000e+00, 0.000000e+00, 0.000000e+00,\n        0.000000e+00, 0.000000e+00, 0.000000e+00, 0.000000e+00,\n        0.000000e+00, 0.000000e+00, 0.000000e+00, 0.000000e+00,\n        0.000000e+00, 0.000000e+00]])"
     },
     "execution_count": 102,
     "metadata": {},
     "output_type": "execute_result"
    }
   ],
   "source": [
    "# prediction_dataset = StandardScaler().fit_transform(prediction_dataset)\r\n",
    " # prediction_dataset.drop(['law'], axis = 1)\r\n",
    "\r\n",
    "# np.delete(prediction_dataset,[12],1)\r\n"
   ]
  },
  {
   "cell_type": "code",
   "execution_count": 204,
   "metadata": {},
   "outputs": [
    {
     "name": "stdout",
     "output_type": "stream",
     "text": [
      "[[1.174000e+03 1.999000e+03 1.122000e+02 2.200000e+00 1.940000e+01\n",
      "  1.250000e+02 7.294260e-01 7.510503e+01 1.345536e+01 1.253040e+00\n",
      "  1.470004e+04 4.059740e-02 0.000000e+00 0.000000e+00 0.000000e+00\n",
      "  0.000000e+00 0.000000e+00 0.000000e+00 0.000000e+00 0.000000e+00\n",
      "  0.000000e+00 0.000000e+00 0.000000e+00 0.000000e+00 0.000000e+00\n",
      "  0.000000e+00 0.000000e+00 0.000000e+00 0.000000e+00 0.000000e+00\n",
      "  0.000000e+00 1.000000e+00 0.000000e+00 0.000000e+00 0.000000e+00\n",
      "  0.000000e+00 0.000000e+00 0.000000e+00 0.000000e+00 0.000000e+00\n",
      "  0.000000e+00 0.000000e+00 0.000000e+00 0.000000e+00 0.000000e+00\n",
      "  0.000000e+00 0.000000e+00 0.000000e+00 0.000000e+00 0.000000e+00\n",
      "  0.000000e+00 0.000000e+00 0.000000e+00 0.000000e+00 0.000000e+00\n",
      "  0.000000e+00 0.000000e+00 0.000000e+00 0.000000e+00 0.000000e+00\n",
      "  0.000000e+00 0.000000e+00 0.000000e+00]]\n"
     ]
    }
   ],
   "source": [
    "varForModelTest = np.delete(prediction_dataset.values,12,axis=1)\r\n",
    "prediction_dataset = varForModelTest\r\n",
    "print(prediction_dataset)"
   ]
  },
  {
   "cell_type": "code",
   "execution_count": 205,
   "metadata": {},
   "outputs": [],
   "source": [
    "dataset=dataset[:-1]\r\n",
    " \r\n",
    " \r\n",
    " # This is the splitting our data set \r\n",
    "from sklearn.model_selection import train_test_split\r\n",
    "\r\n",
    "x = dataset.values\r\n",
    "y = dataset['law'].values\r\n",
    "\r\n",
    "x = np.delete(x,12,axis=1)\r\n",
    "\r\n",
    "x_train , x_test , y_train , y_test = train_test_split(x,y,test_size=0.3,random_state=0)\r\n",
    "\r\n",
    "\r\n"
   ]
  },
  {
   "cell_type": "code",
   "execution_count": 206,
   "metadata": {},
   "outputs": [
    {
     "data": {
      "text/html": "<div>\n<style scoped>\n    .dataframe tbody tr th:only-of-type {\n        vertical-align: middle;\n    }\n\n    .dataframe tbody tr th {\n        vertical-align: top;\n    }\n\n    .dataframe thead th {\n        text-align: right;\n    }\n</style>\n<table border=\"1\" class=\"dataframe\">\n  <thead>\n    <tr style=\"text-align: right;\">\n      <th></th>\n      <th>id</th>\n      <th>year</th>\n      <th>violent</th>\n      <th>murder</th>\n      <th>robbery</th>\n      <th>prisoners</th>\n      <th>afam</th>\n      <th>cauc</th>\n      <th>male</th>\n      <th>population</th>\n      <th>...</th>\n      <th>State__south dakota</th>\n      <th>State__tennessee</th>\n      <th>State__texas</th>\n      <th>State__utah</th>\n      <th>State__vermont</th>\n      <th>State__virginia</th>\n      <th>State__washington</th>\n      <th>State__west virginia</th>\n      <th>State__wisconsin</th>\n      <th>State__wyoming</th>\n    </tr>\n  </thead>\n  <tbody>\n    <tr>\n      <th>0</th>\n      <td>1</td>\n      <td>1977</td>\n      <td>414.4</td>\n      <td>14.2</td>\n      <td>96.8</td>\n      <td>83.0</td>\n      <td>8.384873</td>\n      <td>55.12291</td>\n      <td>18.17441</td>\n      <td>3.780403</td>\n      <td>...</td>\n      <td>0</td>\n      <td>0</td>\n      <td>0</td>\n      <td>0</td>\n      <td>0</td>\n      <td>0</td>\n      <td>0</td>\n      <td>0</td>\n      <td>0</td>\n      <td>0</td>\n    </tr>\n    <tr>\n      <th>1</th>\n      <td>2</td>\n      <td>1978</td>\n      <td>419.1</td>\n      <td>13.3</td>\n      <td>99.1</td>\n      <td>94.0</td>\n      <td>8.352101</td>\n      <td>55.14367</td>\n      <td>17.99408</td>\n      <td>3.831838</td>\n      <td>...</td>\n      <td>0</td>\n      <td>0</td>\n      <td>0</td>\n      <td>0</td>\n      <td>0</td>\n      <td>0</td>\n      <td>0</td>\n      <td>0</td>\n      <td>0</td>\n      <td>0</td>\n    </tr>\n    <tr>\n      <th>2</th>\n      <td>3</td>\n      <td>1979</td>\n      <td>413.3</td>\n      <td>13.2</td>\n      <td>109.5</td>\n      <td>144.0</td>\n      <td>8.329575</td>\n      <td>55.13586</td>\n      <td>17.83934</td>\n      <td>3.866248</td>\n      <td>...</td>\n      <td>0</td>\n      <td>0</td>\n      <td>0</td>\n      <td>0</td>\n      <td>0</td>\n      <td>0</td>\n      <td>0</td>\n      <td>0</td>\n      <td>0</td>\n      <td>0</td>\n    </tr>\n    <tr>\n      <th>3</th>\n      <td>4</td>\n      <td>1980</td>\n      <td>448.5</td>\n      <td>13.2</td>\n      <td>132.1</td>\n      <td>141.0</td>\n      <td>8.408386</td>\n      <td>54.91259</td>\n      <td>17.73420</td>\n      <td>3.900368</td>\n      <td>...</td>\n      <td>0</td>\n      <td>0</td>\n      <td>0</td>\n      <td>0</td>\n      <td>0</td>\n      <td>0</td>\n      <td>0</td>\n      <td>0</td>\n      <td>0</td>\n      <td>0</td>\n    </tr>\n    <tr>\n      <th>4</th>\n      <td>5</td>\n      <td>1981</td>\n      <td>470.5</td>\n      <td>11.9</td>\n      <td>126.5</td>\n      <td>149.0</td>\n      <td>8.483435</td>\n      <td>54.92513</td>\n      <td>17.67372</td>\n      <td>3.918531</td>\n      <td>...</td>\n      <td>0</td>\n      <td>0</td>\n      <td>0</td>\n      <td>0</td>\n      <td>0</td>\n      <td>0</td>\n      <td>0</td>\n      <td>0</td>\n      <td>0</td>\n      <td>0</td>\n    </tr>\n    <tr>\n      <th>...</th>\n      <td>...</td>\n      <td>...</td>\n      <td>...</td>\n      <td>...</td>\n      <td>...</td>\n      <td>...</td>\n      <td>...</td>\n      <td>...</td>\n      <td>...</td>\n      <td>...</td>\n      <td>...</td>\n      <td>...</td>\n      <td>...</td>\n      <td>...</td>\n      <td>...</td>\n      <td>...</td>\n      <td>...</td>\n      <td>...</td>\n      <td>...</td>\n      <td>...</td>\n      <td>...</td>\n    </tr>\n    <tr>\n      <th>1168</th>\n      <td>1169</td>\n      <td>1995</td>\n      <td>254.2</td>\n      <td>2.1</td>\n      <td>17.9</td>\n      <td>254.0</td>\n      <td>1.485849</td>\n      <td>73.71621</td>\n      <td>15.37098</td>\n      <td>0.478447</td>\n      <td>...</td>\n      <td>0</td>\n      <td>0</td>\n      <td>0</td>\n      <td>0</td>\n      <td>0</td>\n      <td>0</td>\n      <td>0</td>\n      <td>0</td>\n      <td>0</td>\n      <td>1</td>\n    </tr>\n    <tr>\n      <th>1169</th>\n      <td>1170</td>\n      <td>1996</td>\n      <td>249.7</td>\n      <td>3.3</td>\n      <td>20.4</td>\n      <td>289.0</td>\n      <td>1.521814</td>\n      <td>73.85796</td>\n      <td>15.44601</td>\n      <td>0.480085</td>\n      <td>...</td>\n      <td>0</td>\n      <td>0</td>\n      <td>0</td>\n      <td>0</td>\n      <td>0</td>\n      <td>0</td>\n      <td>0</td>\n      <td>0</td>\n      <td>0</td>\n      <td>1</td>\n    </tr>\n    <tr>\n      <th>1170</th>\n      <td>1171</td>\n      <td>1997</td>\n      <td>255.2</td>\n      <td>3.5</td>\n      <td>17.7</td>\n      <td>310.0</td>\n      <td>1.527818</td>\n      <td>73.92731</td>\n      <td>15.49400</td>\n      <td>0.480031</td>\n      <td>...</td>\n      <td>0</td>\n      <td>0</td>\n      <td>0</td>\n      <td>0</td>\n      <td>0</td>\n      <td>0</td>\n      <td>0</td>\n      <td>0</td>\n      <td>0</td>\n      <td>1</td>\n    </tr>\n    <tr>\n      <th>1171</th>\n      <td>1172</td>\n      <td>1998</td>\n      <td>247.6</td>\n      <td>4.8</td>\n      <td>16.2</td>\n      <td>326.0</td>\n      <td>1.558396</td>\n      <td>73.98515</td>\n      <td>15.51021</td>\n      <td>0.480045</td>\n      <td>...</td>\n      <td>0</td>\n      <td>0</td>\n      <td>0</td>\n      <td>0</td>\n      <td>0</td>\n      <td>0</td>\n      <td>0</td>\n      <td>0</td>\n      <td>0</td>\n      <td>1</td>\n    </tr>\n    <tr>\n      <th>1172</th>\n      <td>1173</td>\n      <td>1999</td>\n      <td>232.3</td>\n      <td>2.3</td>\n      <td>15.4</td>\n      <td>327.0</td>\n      <td>1.613004</td>\n      <td>74.04952</td>\n      <td>15.48013</td>\n      <td>0.479602</td>\n      <td>...</td>\n      <td>0</td>\n      <td>0</td>\n      <td>0</td>\n      <td>0</td>\n      <td>0</td>\n      <td>0</td>\n      <td>0</td>\n      <td>0</td>\n      <td>0</td>\n      <td>1</td>\n    </tr>\n  </tbody>\n</table>\n<p>1173 rows × 64 columns</p>\n</div>",
      "text/plain": "        id  year  violent  murder  robbery  prisoners      afam      cauc  \\\n0        1  1977    414.4    14.2     96.8       83.0  8.384873  55.12291   \n1        2  1978    419.1    13.3     99.1       94.0  8.352101  55.14367   \n2        3  1979    413.3    13.2    109.5      144.0  8.329575  55.13586   \n3        4  1980    448.5    13.2    132.1      141.0  8.408386  54.91259   \n4        5  1981    470.5    11.9    126.5      149.0  8.483435  54.92513   \n...    ...   ...      ...     ...      ...        ...       ...       ...   \n1168  1169  1995    254.2     2.1     17.9      254.0  1.485849  73.71621   \n1169  1170  1996    249.7     3.3     20.4      289.0  1.521814  73.85796   \n1170  1171  1997    255.2     3.5     17.7      310.0  1.527818  73.92731   \n1171  1172  1998    247.6     4.8     16.2      326.0  1.558396  73.98515   \n1172  1173  1999    232.3     2.3     15.4      327.0  1.613004  74.04952   \n\n          male  population  ...  State__south dakota  State__tennessee  \\\n0     18.17441    3.780403  ...                    0                 0   \n1     17.99408    3.831838  ...                    0                 0   \n2     17.83934    3.866248  ...                    0                 0   \n3     17.73420    3.900368  ...                    0                 0   \n4     17.67372    3.918531  ...                    0                 0   \n...        ...         ...  ...                  ...               ...   \n1168  15.37098    0.478447  ...                    0                 0   \n1169  15.44601    0.480085  ...                    0                 0   \n1170  15.49400    0.480031  ...                    0                 0   \n1171  15.51021    0.480045  ...                    0                 0   \n1172  15.48013    0.479602  ...                    0                 0   \n\n      State__texas  State__utah  State__vermont  State__virginia  \\\n0                0            0               0                0   \n1                0            0               0                0   \n2                0            0               0                0   \n3                0            0               0                0   \n4                0            0               0                0   \n...            ...          ...             ...              ...   \n1168             0            0               0                0   \n1169             0            0               0                0   \n1170             0            0               0                0   \n1171             0            0               0                0   \n1172             0            0               0                0   \n\n      State__washington  State__west virginia  State__wisconsin  \\\n0                     0                     0                 0   \n1                     0                     0                 0   \n2                     0                     0                 0   \n3                     0                     0                 0   \n4                     0                     0                 0   \n...                 ...                   ...               ...   \n1168                  0                     0                 0   \n1169                  0                     0                 0   \n1170                  0                     0                 0   \n1171                  0                     0                 0   \n1172                  0                     0                 0   \n\n      State__wyoming  \n0                  0  \n1                  0  \n2                  0  \n3                  0  \n4                  0  \n...              ...  \n1168               1  \n1169               1  \n1170               1  \n1171               1  \n1172               1  \n\n[1173 rows x 64 columns]"
     },
     "execution_count": 206,
     "metadata": {},
     "output_type": "execute_result"
    }
   ],
   "source": [
    "dataset"
   ]
  },
  {
   "cell_type": "code",
   "execution_count": 207,
   "metadata": {},
   "outputs": [],
   "source": [
    "# Decision Tree Classifier\r\n",
    "from sklearn import tree \r\n",
    "decisionTree = tree.DecisionTreeClassifier(max_depth=5)\r\n",
    "decisionTree.fit(x_train,y_train)   # This is for training the model \r\n",
    "decisionTree.score(x_test,y_test)   # Predict the testing data\r\n",
    "\r\n",
    "#y_prediction = decisionTree.predict(prediction_dataset)\r\n",
    "dT_accuracy = decisionTree.score(x_test,y_test)"
   ]
  },
  {
   "cell_type": "code",
   "execution_count": 208,
   "metadata": {},
   "outputs": [
    {
     "data": {
      "text/plain": "array([[1.174000e+03, 1.999000e+03, 1.122000e+02, 2.200000e+00,\n        1.940000e+01, 1.250000e+02, 7.294260e-01, 7.510503e+01,\n        1.345536e+01, 1.253040e+00, 1.470004e+04, 4.059740e-02,\n        0.000000e+00, 0.000000e+00, 0.000000e+00, 0.000000e+00,\n        0.000000e+00, 0.000000e+00, 0.000000e+00, 0.000000e+00,\n        0.000000e+00, 0.000000e+00, 0.000000e+00, 0.000000e+00,\n        0.000000e+00, 0.000000e+00, 0.000000e+00, 0.000000e+00,\n        0.000000e+00, 0.000000e+00, 0.000000e+00, 1.000000e+00,\n        0.000000e+00, 0.000000e+00, 0.000000e+00, 0.000000e+00,\n        0.000000e+00, 0.000000e+00, 0.000000e+00, 0.000000e+00,\n        0.000000e+00, 0.000000e+00, 0.000000e+00, 0.000000e+00,\n        0.000000e+00, 0.000000e+00, 0.000000e+00, 0.000000e+00,\n        0.000000e+00, 0.000000e+00, 0.000000e+00, 0.000000e+00,\n        0.000000e+00, 0.000000e+00, 0.000000e+00, 0.000000e+00,\n        0.000000e+00, 0.000000e+00, 0.000000e+00, 0.000000e+00,\n        0.000000e+00, 0.000000e+00, 0.000000e+00]])"
     },
     "execution_count": 208,
     "metadata": {},
     "output_type": "execute_result"
    }
   ],
   "source": [
    "prediction_dataset"
   ]
  },
  {
   "cell_type": "code",
   "execution_count": 173,
   "metadata": {},
   "outputs": [
    {
     "name": "stdout",
     "output_type": "stream",
     "text": [
      "[1]\n"
     ]
    }
   ],
   "source": [
    "#print(y_prediction)"
   ]
  },
  {
   "cell_type": "code",
   "execution_count": 209,
   "metadata": {},
   "outputs": [],
   "source": [
    "# This is random forest classifier \r\n",
    "\r\n",
    "from sklearn import ensemble\r\n",
    "\r\n",
    "randomForestClassifier = ensemble.RandomForestClassifier(n_estimators=100)\r\n",
    "randomForestClassifier.fit(x_train,y_train)\r\n",
    "rForest_accuracy = randomForestClassifier.score(x_test,y_test)"
   ]
  },
  {
   "cell_type": "code",
   "execution_count": 210,
   "metadata": {},
   "outputs": [],
   "source": [
    "# Naive Bayes Classifier \r\n",
    "from sklearn.naive_bayes import GaussianNB\r\n",
    "NB_Classifier = GaussianNB()\r\n",
    "NB_Classifier.fit(x_train,y_train)\r\n",
    "nb_accuracy = NB_Classifier.score(x_test,y_test)"
   ]
  },
  {
   "cell_type": "code",
   "execution_count": 211,
   "metadata": {},
   "outputs": [],
   "source": [
    "# K-Nearest Neighbors Classification\r\n",
    "from sklearn.neighbors import KNeighborsClassifier\r\n",
    "KNN_Classifier = KNeighborsClassifier(n_neighbors=3)\r\n",
    "KNN_Classifier.fit(x_train,y_train)\r\n",
    "knn_accuracy = KNN_Classifier.score(x_test,y_test)"
   ]
  },
  {
   "cell_type": "code",
   "execution_count": 214,
   "metadata": {},
   "outputs": [
    {
     "name": "stdout",
     "output_type": "stream",
     "text": [
      "Gun Law is YES\n"
     ]
    }
   ],
   "source": [
    "dT_accuracy\r\n",
    "rForest_accuracy\r\n",
    "nb_accuracy\r\n",
    "knn_accuracy\r\n",
    "\r\n",
    "if dT_accuracy > rForest_accuracy and nb_accuracy and knn_accuracy:\r\n",
    "    y_prediction = decisionTree.predict(prediction_dataset)\r\n",
    "\r\n",
    "elif rForest_accuracy >  dT_accuracy and nb_accuracy and knn_accuracy:\r\n",
    "    y_prediction = randomForestClassifier.predict(prediction_dataset)\r\n",
    "\r\n",
    "elif nb_accuracy >  dT_accuracy and rForest_accuracy and knn_accuracy:\r\n",
    "    y_prediction = NB_Classifier.predict(prediction_dataset)\r\n",
    "\r\n",
    "else:\r\n",
    "    y_prediction = KNN_Classifier.predict(prediction_dataset)\r\n",
    "\r\n",
    "\r\n",
    "if y_prediction == [0]:\r\n",
    "    print('Gun Law is NO')\r\n",
    "\r\n",
    "else:\r\n",
    "    print('Gun Law is YES')"
   ]
  }
 ],
 "metadata": {
  "kernelspec": {
   "display_name": "Python 3.9.1 64-bit",
   "metadata": {
    "interpreter": {
     "hash": "6274fd37f9ef3619bb42a8871e7d2caff5bde4185d44d064c16d05f9687fc593"
    }
   },
   "name": "python3"
  },
  "language_info": {
   "codemirror_mode": {
    "name": "ipython",
    "version": 3
   },
   "file_extension": ".py",
   "mimetype": "text/x-python",
   "name": "python",
   "nbconvert_exporter": "python",
   "pygments_lexer": "ipython3",
   "version": "3.9.1"
  },
  "orig_nbformat": 2
 },
 "nbformat": 4,
 "nbformat_minor": 2
}